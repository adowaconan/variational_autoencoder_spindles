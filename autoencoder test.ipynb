{
 "cells": [
  {
   "cell_type": "code",
   "execution_count": 48,
   "metadata": {},
   "outputs": [],
   "source": [
    "import keras\n",
    "from keras.layers import Input, Conv2D, Conv2DTranspose, MaxPooling2D, UpSampling2D,Dropout,BatchNormalization\n",
    "from keras.layers import Dense,Flatten\n",
    "from keras import regularizers\n",
    "from keras.models import Model\n",
    "import numpy as np"
   ]
  },
  {
   "cell_type": "code",
   "execution_count": 84,
   "metadata": {},
   "outputs": [
    {
     "name": "stdout",
     "output_type": "stream",
     "text": [
      "conv1 shape: (10, 64, 8, 96)\n",
      "down1 shape: (10, 64, 4, 48)\n",
      "conv2 shape: (10, 128, 2, 24)\n",
      "down2 shape: (10, 128, 1, 12)\n",
      "conv3 shape: (10, 512, 1, 6)\n",
      "down3 shape: (10, 512, 1, 3)\n",
      "decov4 shape: (?, 128, ?, ?)\n",
      "decov5 shape: (?, 64, ?, ?)\n",
      "decov6 shape: (?, 32, ?, ?)\n"
     ]
    }
   ],
   "source": [
    "inputs = Input(shape=(32,16,192),batch_shape=(10,32,16,192),name='input',dtype='float64',)\n",
    "conv1 = Conv2D(64,(4,8),strides=(2,2),activation='relu',padding='same',data_format='channels_first',\n",
    "              kernel_initializer='he_normal')(inputs)\n",
    "print('conv1 shape:',conv1.shape)\n",
    "drop1 = Dropout(0.5)(conv1)\n",
    "norm1 = BatchNormalization()(drop1)\n",
    "down1 = MaxPooling2D((2,4),(2,2),padding='same',data_format='channels_first',)(norm1)\n",
    "print('down1 shape:', down1.shape)\n",
    "\n",
    "conv2 = Conv2D(128,(4,8),strides=(2,2),activation='relu',padding='same',data_format='channels_first',\n",
    "              kernel_initializer='he_normal')(down1)\n",
    "print('conv2 shape:',conv2.shape)\n",
    "drop2 = Dropout(0.5)(conv2)\n",
    "norm2 = BatchNormalization()(drop2)\n",
    "down2 = MaxPooling2D((2,4),(2,2),padding='same',data_format='channels_first',)(norm2)\n",
    "print('down2 shape:',down2.shape)\n",
    "\n",
    "conv3 = Conv2D(512,(4,8),strides=(2,2),activation='relu',padding='same',data_format='channels_first',\n",
    "              kernel_initializer='he_normal')(down2)\n",
    "print('conv3 shape:',conv3.shape)\n",
    "drop3 = Dropout(0.5)(conv3)\n",
    "norm3 = BatchNormalization()(drop3)\n",
    "down3 = MaxPooling2D((2,4),(2,2),padding='same',data_format='channels_first',)(norm3)\n",
    "print('down3 shape:',down3.shape)\n",
    "\n",
    "decov4 = Conv2DTranspose(128,(4,8),strides=(2,4),activation='relu',padding='same',data_format='channels_first',\n",
    "                        kernel_initializer='he_normal')(down3)\n",
    "print('decov4 shape:',decov4.shape)\n",
    "drop4 = Dropout(0.5)(decov4)\n",
    "norm4 = BatchNormalization()(drop4)\n",
    "\n",
    "decov5 = Conv2DTranspose(64,(4,8),strides=(2,4),activation='relu',padding='same',data_format='channels_first',\n",
    "                        kernel_initializer='he_normal')(norm4)\n",
    "print('decov5 shape:',decov5.shape)\n",
    "drop5 = Dropout(0.5)(decov5)\n",
    "norm5 = BatchNormalization()(drop5)\n",
    "\n",
    "decov6 = Conv2DTranspose(32,(4,8),strides=(4,4),activation='relu',padding='same',data_format='channels_first',\n",
    "                        kernel_initializer='he_normal')(norm5)\n",
    "print('decov6 shape:',decov6.shape)"
   ]
  },
  {
   "cell_type": "code",
   "execution_count": 85,
   "metadata": {},
   "outputs": [
    {
     "data": {
      "text/plain": [
       "(10, 32, 16, 192)"
      ]
     },
     "execution_count": 85,
     "metadata": {},
     "output_type": "execute_result"
    }
   ],
   "source": [
    "model = Model(inputs = inputs,outputs=decov6)\n",
    "model.compile(optimizer=keras.optimizers.Adam(),loss=keras.losses.binary_crossentropy,metrics=['accuracy'])\n",
    "\n",
    "data = np.random.rand(10,32,16,192).astype(np.float64)\n",
    "\n",
    "predict = model.predict(data)\n",
    "\n",
    "predict.shape"
   ]
  },
  {
   "cell_type": "code",
   "execution_count": null,
   "metadata": {},
   "outputs": [],
   "source": []
  }
 ],
 "metadata": {
  "kernelspec": {
   "display_name": "Python 3",
   "language": "python",
   "name": "python3"
  },
  "language_info": {
   "codemirror_mode": {
    "name": "ipython",
    "version": 3
   },
   "file_extension": ".py",
   "mimetype": "text/x-python",
   "name": "python",
   "nbconvert_exporter": "python",
   "pygments_lexer": "ipython3",
   "version": "3.5.2"
  }
 },
 "nbformat": 4,
 "nbformat_minor": 2
}
