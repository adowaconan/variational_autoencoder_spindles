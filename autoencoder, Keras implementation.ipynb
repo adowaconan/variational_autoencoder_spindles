{
 "cells": [
  {
   "cell_type": "code",
   "execution_count": null,
   "metadata": {},
   "outputs": [],
   "source": [
    "import os\n",
    "from keras import regularizers\n",
    "from keras.layers import Dense, Input\n",
    "from keras.models import Model\n",
    "import mne\n",
    "import numpy as np\n",
    "raw_dir = 'D:\\\\NING - spindle\\\\training set\\\\'\n",
    "os.chdir(raw_dir)\n",
    "import matplotlib.pyplot as plt\n",
    "%matplotlib inline"
   ]
  },
  {
   "cell_type": "code",
   "execution_count": null,
   "metadata": {},
   "outputs": [],
   "source": [
    "raw_names = ['suj11_l2nap_day2.fif','suj11_l5nap_day1.fif',\n",
    "             'suj12_l2nap_day1.fif','suj12_l5nap_day2.fif',\n",
    "             'suj13_l2nap_day2.fif','suj13_l5nap_day1.fif',\n",
    "             'suj14_l2nap_day2.fif','suj14_l5nap_day1.fif',\n",
    "             'suj15_l2nap_day1.fif','suj15_l5nap_day2.fif',\n",
    "             'suj16_l2nap_day2.fif','suj16_l5nap_day1.fif']\n",
    "epochs = []\n",
    "for ii,raw_name in enumerate(raw_names):\n",
    "    raw = mne.io.read_raw_fif(raw_name)\n",
    "    duration = 5 # 5 seconds\n",
    "    events = mne.make_fixed_length_events(raw,id=1,duration=duration,)\n",
    "    epoch=mne.Epochs(raw,events,tmin=0,tmax=duration,preload=True,\n",
    "                            proj=False).resample(128)\n",
    "    epoch=epoch.pick_channels(epoch.ch_names[:-2])\n",
    "    if ii == 0:\n",
    "        epochs = epoch.get_data()\n",
    "    else:\n",
    "        epochs = np.concatenate([epochs,epoch.get_data()])\n",
    "    raw.close()\n",
    "    "
   ]
  },
  {
   "cell_type": "code",
   "execution_count": null,
   "metadata": {
    "scrolled": true
   },
   "outputs": [],
   "source": [
    "epochs.shape"
   ]
  },
  {
   "cell_type": "code",
   "execution_count": null,
   "metadata": {
    "collapsed": true
   },
   "outputs": [],
   "source": [
    "from sklearn.model_selection import train_test_split\n",
    "x_train,x_test = train_test_split(epochs)\n",
    "x_train = x_train.astype('float32').reshape(x_train.shape[0],-1)\n",
    "x_train /= np.max(x_train)\n",
    "x_test  = x_test.astype('float32').reshape(x_test.shape[0],-1)\n",
    "x_test /= np.max(x_test)"
   ]
  },
  {
   "cell_type": "code",
   "execution_count": null,
   "metadata": {},
   "outputs": [],
   "source": [
    "input_shape = x_train.shape[1]"
   ]
  },
  {
   "cell_type": "code",
   "execution_count": null,
   "metadata": {},
   "outputs": [],
   "source": [
    "# this is the size of our encoded representations\n",
    "encoding_dim = 32  \n",
    "\n",
    "input_img = Input(shape=(input_shape,))\n",
    "encoded = Dense(256, activation='relu', activity_regularizer=regularizers.l1(10e-5))(input_img)\n",
    "encoded = Dense(128, activation='relu')(encoded)\n",
    "encoded = Dense(64, activation='relu')(encoded)\n",
    "\n",
    "decoded = Dense(128, activation='relu')(encoded)\n",
    "decoded = Dense(256, activation='relu')(decoded)\n",
    "decoded = Dense(input_shape, activation='sigmoid')(decoded)\n",
    "\n",
    "autoencoder = Model(input=input_img, output=decoded)\n",
    "\n",
    "# this model maps an input to its encoded representation\n",
    "encoder = Model(input=input_img, output=encoded)\n",
    "\n",
    "# create a placeholder for an encoded (32-dimensional) input\n",
    "encoded_input_1 = Input(shape=(64,))\n",
    "encoded_input_2 = Input(shape=(128,))\n",
    "encoded_input_3 = Input(shape=(256,))\n",
    "\n",
    "# retrieve the last layer of the autoencoder model\n",
    "decoder_layer_1 = autoencoder.layers[-3]\n",
    "decoder_layer_2 = autoencoder.layers[-2]\n",
    "decoder_layer_3 = autoencoder.layers[-1]\n",
    "\n",
    "# create the decoder model\n",
    "decoder_1 = Model(input = encoded_input_1, output = decoder_layer_1(encoded_input_1))\n",
    "decoder_2 = Model(input = encoded_input_2, output = decoder_layer_2(encoded_input_2))\n",
    "decoder_3 = Model(input = encoded_input_3, output = decoder_layer_3(encoded_input_3))\n",
    "\n",
    "autoencoder.compile(optimizer='adam', loss='mean_squared_error')"
   ]
  },
  {
   "cell_type": "code",
   "execution_count": null,
   "metadata": {
    "scrolled": true
   },
   "outputs": [],
   "source": [
    "autoencoder.fit(x_train, x_train,\n",
    "                epochs=2000,\n",
    "                batch_size=512,\n",
    "                shuffle=True,\n",
    "                validation_data=(x_test, x_test))"
   ]
  },
  {
   "cell_type": "code",
   "execution_count": null,
   "metadata": {
    "collapsed": true
   },
   "outputs": [],
   "source": [
    "#a=autoencoder.predict(x_test)\n",
    "n = 1\n",
    "fig, ax = plt.subplots(nrows=2,figsize=(8,8))\n",
    "_=ax[0].plot(x_test[n].reshape(61,640))\n",
    "_=ax[1].plot(a[n].reshape(61,640))"
   ]
  },
  {
   "cell_type": "code",
   "execution_count": null,
   "metadata": {
    "collapsed": true
   },
   "outputs": [],
   "source": []
  }
 ],
 "metadata": {
  "kernelspec": {
   "display_name": "Python 3",
   "language": "python",
   "name": "python3"
  },
  "language_info": {
   "codemirror_mode": {
    "name": "ipython",
    "version": 3
   },
   "file_extension": ".py",
   "mimetype": "text/x-python",
   "name": "python",
   "nbconvert_exporter": "python",
   "pygments_lexer": "ipython3",
   "version": "3.5.3"
  }
 },
 "nbformat": 4,
 "nbformat_minor": 2
}
